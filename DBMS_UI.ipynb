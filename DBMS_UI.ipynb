{
 "cells": [
  {
   "cell_type": "code",
   "execution_count": 3,
   "metadata": {},
   "outputs": [],
   "source": [
    "from PyQt5 import QtCore,QtGui,QtWidgets\n",
    "from PyQt5.QtGui import QTextCursor\n",
    "import MySQLdb as mdb"
   ]
  },
  {
   "cell_type": "code",
   "execution_count": 1,
   "metadata": {},
   "outputs": [],
   "source": [
    "class Ui_MainWindow(object):\n",
    "    def LoadData(self):\n",
    "        conn=mdb.connect(\"localhost\",\"root\",\"a201020102010\",\"DBMS\")\n",
    "        with conn:\n",
    "            cur=conn.cursor()\n",
    "            cur.exercute(\"SELECT * FROM department\")\n",
    "            for i in range(cur.rowcount):\n",
    "                result=cur.fetchall()\n",
    "                for row in result:\n",
    "                    self.cursor=QTextCursor(self.textEdit.document())\n",
    "                    self.cursor.insertText(str(row)+'\\n')"
   ]
  },
  {
   "cell_type": "code",
   "execution_count": null,
   "metadata": {},
   "outputs": [],
   "source": [
    "self.lineEdit = QtWidgets.QLineEdit(self.widget)\n",
    "        self.lineEdit.setGeometry(QtCore.QRect(280, 70, 381, 141))\n",
    "        self.lineEdit.setStyleSheet(\"background-color: rgb(255, 254, 235);\")\n",
    "        self.lineEdit.setObjectName(\"lineEdit\")"
   ]
  }
 ],
 "metadata": {
  "kernelspec": {
   "display_name": "Python 3",
   "language": "python",
   "name": "python3"
  },
  "language_info": {
   "codemirror_mode": {
    "name": "ipython",
    "version": 3
   },
   "file_extension": ".py",
   "mimetype": "text/x-python",
   "name": "python",
   "nbconvert_exporter": "python",
   "pygments_lexer": "ipython3",
   "version": "3.7.0"
  }
 },
 "nbformat": 4,
 "nbformat_minor": 2
}
